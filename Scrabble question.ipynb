{
 "cells": [
  {
   "cell_type": "code",
   "execution_count": 1,
   "id": "db2fadee-9ba0-4e99-a92f-19ed78993028",
   "metadata": {},
   "outputs": [
    {
     "data": {
      "text/html": [
       "\n",
       "                <script type=\"application/javascript\" id=\"jupyter_black\">\n",
       "                (function() {\n",
       "                    if (window.IPython === undefined) {\n",
       "                        return\n",
       "                    }\n",
       "                    var msg = \"WARNING: it looks like you might have loaded \" +\n",
       "                        \"jupyter_black in a non-lab notebook with \" +\n",
       "                        \"`is_lab=True`. Please double check, and if \" +\n",
       "                        \"loading with `%load_ext` please review the README!\"\n",
       "                    console.log(msg)\n",
       "                    alert(msg)\n",
       "                })()\n",
       "                </script>\n",
       "                "
      ],
      "text/plain": [
       "<IPython.core.display.HTML object>"
      ]
     },
     "metadata": {},
     "output_type": "display_data"
    }
   ],
   "source": [
    "from more_itertools import distinct_combinations\n",
    "from collections import Counter\n",
    "from tqdm.notebook import tqdm\n",
    "\n",
    "%load_ext jupyter_black"
   ]
  },
  {
   "cell_type": "code",
   "execution_count": 2,
   "id": "f2b778ab-4218-4520-b746-4980e6f7a02a",
   "metadata": {},
   "outputs": [],
   "source": [
    "# define a string of Scrabble letters (0 = blank), and get the number of\n",
    "# possible seven-letter combinations, defining each one as a Counter object\n",
    "\n",
    "letters = \"aaaaaaaaabbccddddeeeeeeeeeeeeffggghhiiiiiiiiijkllllmmnnnnnnooooooooppqrrrrrrssssttttttuuuuvvwwxyyz00\"\n",
    "all_racks = [Counter(x) for x in distinct_combinations(letters, 7)]\n",
    "all_racks_cnt = len(all_racks)"
   ]
  },
  {
   "cell_type": "code",
   "execution_count": 3,
   "id": "2eaf5912-aa58-4791-a98b-342fd48e8482",
   "metadata": {},
   "outputs": [],
   "source": [
    "# get a list of seven letter Scrabble words as a list of Counter objects\n",
    "\n",
    "with open(\"Collins Scrabble Words (2019).txt\", \"r\") as f:\n",
    "    txt_string = f.read()\n",
    "\n",
    "words_list = [x.lower() for x in txt_string.split(\"\\n\")[2:] if len(x) == 7]\n",
    "words_list_counter = [Counter(x) for x in words_list]\n",
    "words_list_cnt = len(words_list)"
   ]
  },
  {
   "cell_type": "code",
   "execution_count": 4,
   "id": "8544c62c-2889-4cd4-9fbb-1e3b59f9841e",
   "metadata": {},
   "outputs": [
    {
     "data": {
      "application/vnd.jupyter.widget-view+json": {
       "model_id": "06cb1a16b1eb48d6ba6342da1e933439",
       "version_major": 2,
       "version_minor": 0
      },
      "text/plain": [
       "  0%|          | 0/3199724 [00:00<?, ?it/s]"
      ]
     },
     "metadata": {},
     "output_type": "display_data"
    }
   ],
   "source": [
    "# iterate over the combinations. For each combination, if it\n",
    "# matches all the letters in any of the Scrabble words (or fewer\n",
    "# if there are blanks), add it to the bingo_racks list\n",
    "\n",
    "\n",
    "def check_lists(rack, words_list_counter):\n",
    "    thresholds = {1: 6, 2: 5}\n",
    "    my_threshold = thresholds.get(rack[0], None)\n",
    "\n",
    "    for sublist_counter in words_list_counter:\n",
    "        if my_threshold is not None:\n",
    "            intersect = sum((rack & sublist_counter).values())\n",
    "            if intersect >= my_threshold:\n",
    "                return rack\n",
    "        else:\n",
    "            if rack == sublist_counter:\n",
    "                return rack\n",
    "    return None\n",
    "\n",
    "\n",
    "bingo_racks = []\n",
    "\n",
    "for rack in tqdm(all_racks):\n",
    "    result = check_lists(rack, words_list_counter)\n",
    "    if result is not None:\n",
    "        bingo_racks.append(result)\n",
    "\n",
    "bingo_racks_cnt = len(bingo_racks)"
   ]
  },
  {
   "cell_type": "code",
   "execution_count": 6,
   "id": "e420c682-9688-4362-99cc-c23b209a7fea",
   "metadata": {},
   "outputs": [
    {
     "name": "stdout",
     "output_type": "stream",
     "text": [
      "There are 3,199,724 possible Scrabble racks.\n",
      "There are 34,342 possible seven-letter bingos.\n",
      "There are 27,071 racks that hold a bingo (0.85% of the total).\n"
     ]
    }
   ],
   "source": [
    "print(f\"There are {all_racks_cnt:,} possible Scrabble racks.\")\n",
    "print(f\"There are {words_list_cnt:,} possible seven-letter bingos.\")\n",
    "print(\n",
    "    f\"There are {bingo_racks_cnt:,} racks that hold a bingo ({bingo_racks_cnt/all_racks_cnt:.2%} of the total).\"\n",
    ")"
   ]
  }
 ],
 "metadata": {
  "kernelspec": {
   "display_name": "Python 3 (ipykernel)",
   "language": "python",
   "name": "python3"
  },
  "language_info": {
   "codemirror_mode": {
    "name": "ipython",
    "version": 3
   },
   "file_extension": ".py",
   "mimetype": "text/x-python",
   "name": "python",
   "nbconvert_exporter": "python",
   "pygments_lexer": "ipython3",
   "version": "3.9.0"
  }
 },
 "nbformat": 4,
 "nbformat_minor": 5
}
